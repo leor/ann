{
 "cells": [
  {
   "cell_type": "code",
   "execution_count": 1,
   "metadata": {},
   "outputs": [],
   "source": [
    "import tensorflow as tf\n",
    "import matplotlib.pyplot as plt\n",
    "import numpy as np"
   ]
  },
  {
   "cell_type": "code",
   "execution_count": 2,
   "metadata": {},
   "outputs": [
    {
     "name": "stderr",
     "output_type": "stream",
     "text": [
      "Using TensorFlow backend.\n"
     ]
    }
   ],
   "source": [
    "from keras.datasets import imdb"
   ]
  },
  {
   "cell_type": "code",
   "execution_count": 3,
   "metadata": {},
   "outputs": [],
   "source": [
    "VOCAB_LEN = 10000"
   ]
  },
  {
   "cell_type": "code",
   "execution_count": 4,
   "metadata": {},
   "outputs": [],
   "source": [
    "(train_data, train_labels), (test_data, test_labels) = imdb.load_data(num_words=VOCAB_LEN)"
   ]
  },
  {
   "cell_type": "code",
   "execution_count": 5,
   "metadata": {},
   "outputs": [
    {
     "data": {
      "text/plain": [
       "((25000,), (25000,))"
      ]
     },
     "execution_count": 5,
     "metadata": {},
     "output_type": "execute_result"
    }
   ],
   "source": [
    "train_data.shape, test_data.shape"
   ]
  },
  {
   "cell_type": "code",
   "execution_count": 6,
   "metadata": {},
   "outputs": [
    {
     "data": {
      "text/plain": [
       "(25000, 25000)"
      ]
     },
     "execution_count": 6,
     "metadata": {},
     "output_type": "execute_result"
    }
   ],
   "source": [
    "len(train_labels), len(test_labels)"
   ]
  },
  {
   "cell_type": "code",
   "execution_count": 7,
   "metadata": {},
   "outputs": [],
   "source": [
    "word_index = imdb.get_word_index()"
   ]
  },
  {
   "cell_type": "code",
   "execution_count": 8,
   "metadata": {},
   "outputs": [],
   "source": [
    "# Восстанавливаем текст ревью\n",
    "# Интересно, что в обзоре датасета нет никакой информации о том, что первые 4 значения зарезервированы \n",
    "# (но есть указание, что 0 - это неизвестное слово)\n",
    "wi = {(k+3): v for v, k in word_index.items()}\n",
    "wi[0] = '<PAD>'\n",
    "wi[1] = '<START>'\n",
    "wi[2] = '<UNKNOWN>'\n",
    "wi[3] = '<UNUSED>'"
   ]
  },
  {
   "cell_type": "code",
   "execution_count": 9,
   "metadata": {},
   "outputs": [
    {
     "data": {
      "text/plain": [
       "\"<START> this film was just brilliant casting location scenery story direction everyone's really suited the part they played and you could just imagine being there robert <UNKNOWN> is an amazing actor and now the same being director <UNKNOWN> father came from the same scottish island as myself so i loved the fact there was a real connection with this film the witty remarks throughout the film were great it was just brilliant so much that i bought the film as soon as it was released for <UNKNOWN> and would recommend it to everyone to watch and the fly fishing was amazing really cried at the end it was so sad and you know what they say if you cry at a film it must have been good and this definitely was also <UNKNOWN> to the two little boy's that played the <UNKNOWN> of norman and paul they were just brilliant children are often left out of the <UNKNOWN> list i think because the stars that play them all grown up are such a big profile for the whole film but these children are amazing and should be praised for what they have done don't you think the whole story was so lovely because it was true and was someone's life after all that was shared with us all\""
      ]
     },
     "execution_count": 9,
     "metadata": {},
     "output_type": "execute_result"
    }
   ],
   "source": [
    "' '.join([wi[t] for t in train_data[0]])"
   ]
  },
  {
   "cell_type": "code",
   "execution_count": 10,
   "metadata": {},
   "outputs": [],
   "source": [
    "# делаем данные понятными для модели\n",
    "train_data = tf.keras.preprocessing.sequence.pad_sequences(train_data,\n",
    "                                                        value=0,\n",
    "                                                        padding='post',\n",
    "                                                        maxlen=256)\n",
    "\n",
    "test_data = tf.keras.preprocessing.sequence.pad_sequences(test_data,\n",
    "                                                       value=0,\n",
    "                                                       padding='post',\n",
    "                                                       maxlen=256)"
   ]
  },
  {
   "cell_type": "code",
   "execution_count": 11,
   "metadata": {},
   "outputs": [
    {
     "data": {
      "text/plain": [
       "(256, 256)"
      ]
     },
     "execution_count": 11,
     "metadata": {},
     "output_type": "execute_result"
    }
   ],
   "source": [
    "len(train_data[0]), len(train_data[1])"
   ]
  },
  {
   "cell_type": "code",
   "execution_count": 12,
   "metadata": {},
   "outputs": [
    {
     "data": {
      "text/plain": [
       "25000"
      ]
     },
     "execution_count": 12,
     "metadata": {},
     "output_type": "execute_result"
    }
   ],
   "source": [
    "len(train_data)"
   ]
  },
  {
   "cell_type": "code",
   "execution_count": 70,
   "metadata": {},
   "outputs": [],
   "source": [
    "model = tf.keras.Sequential([\n",
    "    tf.keras.layers.Embedding(VOCAB_LEN, 16),\n",
    "    tf.keras.layers.GlobalAveragePooling1D(),\n",
    "    tf.keras.layers.Dense(16, activation=tf.nn.relu),\n",
    "    tf.keras.layers.Dense(1, activation=tf.nn.sigmoid)\n",
    "])"
   ]
  },
  {
   "cell_type": "code",
   "execution_count": 71,
   "metadata": {},
   "outputs": [
    {
     "name": "stdout",
     "output_type": "stream",
     "text": [
      "Model: \"sequential_9\"\n",
      "_________________________________________________________________\n",
      "Layer (type)                 Output Shape              Param #   \n",
      "=================================================================\n",
      "embedding_9 (Embedding)      (None, None, 16)          160000    \n",
      "_________________________________________________________________\n",
      "global_average_pooling1d_8 ( (None, 16)                0         \n",
      "_________________________________________________________________\n",
      "dense_23 (Dense)             (None, 16)                272       \n",
      "_________________________________________________________________\n",
      "dense_24 (Dense)             (None, 1)                 17        \n",
      "=================================================================\n",
      "Total params: 160,289\n",
      "Trainable params: 160,289\n",
      "Non-trainable params: 0\n",
      "_________________________________________________________________\n"
     ]
    }
   ],
   "source": [
    "model.summary()"
   ]
  },
  {
   "cell_type": "code",
   "execution_count": 72,
   "metadata": {},
   "outputs": [],
   "source": [
    "model.compile(optimizer='adam', loss=tf.losses.BinaryCrossentropy(), metrics=['accuracy'])"
   ]
  },
  {
   "cell_type": "code",
   "execution_count": 73,
   "metadata": {},
   "outputs": [
    {
     "name": "stdout",
     "output_type": "stream",
     "text": [
      "Train on 10000 samples, validate on 15000 samples\n",
      "Epoch 1/20\n",
      "10000/10000 [==============================] - 1s 102us/sample - loss: 0.6924 - accuracy: 0.5398 - val_loss: 0.6909 - val_accuracy: 0.7137\n",
      "Epoch 2/20\n",
      "10000/10000 [==============================] - 1s 88us/sample - loss: 0.6891 - accuracy: 0.6913 - val_loss: 0.6870 - val_accuracy: 0.7153\n",
      "Epoch 3/20\n",
      "10000/10000 [==============================] - 1s 95us/sample - loss: 0.6840 - accuracy: 0.7454 - val_loss: 0.6808 - val_accuracy: 0.7477\n",
      "Epoch 4/20\n",
      "10000/10000 [==============================] - 1s 71us/sample - loss: 0.6760 - accuracy: 0.7677 - val_loss: 0.6715 - val_accuracy: 0.7605\n",
      "Epoch 5/20\n",
      "10000/10000 [==============================] - 1s 92us/sample - loss: 0.6642 - accuracy: 0.7807 - val_loss: 0.6585 - val_accuracy: 0.7642\n",
      "Epoch 6/20\n",
      "10000/10000 [==============================] - 1s 90us/sample - loss: 0.6481 - accuracy: 0.7889 - val_loss: 0.6411 - val_accuracy: 0.7824\n",
      "Epoch 7/20\n",
      "10000/10000 [==============================] - 1s 53us/sample - loss: 0.6275 - accuracy: 0.8022 - val_loss: 0.6200 - val_accuracy: 0.7890\n",
      "Epoch 8/20\n",
      "10000/10000 [==============================] - 1s 54us/sample - loss: 0.6023 - accuracy: 0.8203 - val_loss: 0.5951 - val_accuracy: 0.8010\n",
      "Epoch 9/20\n",
      "10000/10000 [==============================] - 1s 53us/sample - loss: 0.5730 - accuracy: 0.8316 - val_loss: 0.5679 - val_accuracy: 0.8100\n",
      "Epoch 10/20\n",
      "10000/10000 [==============================] - 1s 54us/sample - loss: 0.5415 - accuracy: 0.8458 - val_loss: 0.5394 - val_accuracy: 0.8222\n",
      "Epoch 11/20\n",
      "10000/10000 [==============================] - 1s 54us/sample - loss: 0.5088 - accuracy: 0.8549 - val_loss: 0.5113 - val_accuracy: 0.8298\n",
      "Epoch 12/20\n",
      "10000/10000 [==============================] - 1s 55us/sample - loss: 0.4765 - accuracy: 0.8657 - val_loss: 0.4843 - val_accuracy: 0.8369\n",
      "Epoch 13/20\n",
      "10000/10000 [==============================] - 1s 86us/sample - loss: 0.4453 - accuracy: 0.8752 - val_loss: 0.4605 - val_accuracy: 0.8414\n",
      "Epoch 14/20\n",
      "10000/10000 [==============================] - 1s 81us/sample - loss: 0.4167 - accuracy: 0.8820 - val_loss: 0.4378 - val_accuracy: 0.8469\n",
      "Epoch 15/20\n",
      "10000/10000 [==============================] - 1s 94us/sample - loss: 0.3898 - accuracy: 0.8911 - val_loss: 0.4178 - val_accuracy: 0.8519\n",
      "Epoch 16/20\n",
      "10000/10000 [==============================] - 1s 69us/sample - loss: 0.3660 - accuracy: 0.8962 - val_loss: 0.4014 - val_accuracy: 0.8541\n",
      "Epoch 17/20\n",
      "10000/10000 [==============================] - 1s 65us/sample - loss: 0.3451 - accuracy: 0.8985 - val_loss: 0.3871 - val_accuracy: 0.8576\n",
      "Epoch 18/20\n",
      "10000/10000 [==============================] - 1s 71us/sample - loss: 0.3248 - accuracy: 0.9066 - val_loss: 0.3738 - val_accuracy: 0.8608\n",
      "Epoch 19/20\n",
      "10000/10000 [==============================] - 1s 54us/sample - loss: 0.3073 - accuracy: 0.9093 - val_loss: 0.3626 - val_accuracy: 0.8633\n",
      "Epoch 20/20\n",
      "10000/10000 [==============================] - 0s 43us/sample - loss: 0.2913 - accuracy: 0.9127 - val_loss: 0.3532 - val_accuracy: 0.8655\n"
     ]
    }
   ],
   "source": [
    "history = model.fit(\n",
    "    x=train_data[:10000],\n",
    "    y=train_labels[:10000],\n",
    "    validation_data=(train_data[10000:], train_labels[10000:]),\n",
    "    batch_size=512,\n",
    "    epochs=20\n",
    ")"
   ]
  },
  {
   "cell_type": "code",
   "execution_count": 74,
   "metadata": {},
   "outputs": [
    {
     "name": "stdout",
     "output_type": "stream",
     "text": [
      "25000/25000 [==============================] - 1s 48us/sample - loss: 0.3628 - accuracy: 0.8584s -\n"
     ]
    },
    {
     "data": {
      "text/plain": [
       "[0.3627708159255981, 0.85844]"
      ]
     },
     "execution_count": 74,
     "metadata": {},
     "output_type": "execute_result"
    }
   ],
   "source": [
    "model.evaluate(test_data, test_labels)"
   ]
  },
  {
   "cell_type": "code",
   "execution_count": 47,
   "metadata": {},
   "outputs": [],
   "source": [
    "history_dict = history.history"
   ]
  },
  {
   "cell_type": "code",
   "execution_count": 48,
   "metadata": {},
   "outputs": [
    {
     "data": {
      "image/png": "[encoded data removed]",
      "text/plain": [
       "<Figure size 432x288 with 1 Axes>"
      ]
     },
     "metadata": {
      "needs_background": "light"
     },
     "output_type": "display_data"
    }
   ],
   "source": [
    "acc = history_dict['accuracy']\n",
    "val_acc = history_dict['val_accuracy']\n",
    "loss = history_dict['loss']\n",
    "val_loss = history_dict['val_loss']\n",
    "\n",
    "epochs = range(1, len(acc) + 1)\n",
    "\n",
    "# \"bo\" is for \"blue dot\"\n",
    "plt.plot(epochs, loss, 'bo', label='Training loss')\n",
    "# b is for \"solid blue line\"\n",
    "plt.plot(epochs, val_loss, 'b', label='Validation loss')\n",
    "plt.title('Training and validation loss')\n",
    "plt.xlabel('Epochs')\n",
    "plt.ylabel('Loss')\n",
    "plt.legend()\n",
    "\n",
    "plt.show()"
   ]
  },
  {
   "cell_type": "code",
   "execution_count": 49,
   "metadata": {},
   "outputs": [
    {
     "data": {
      "image/png": "[encoded data removed]",
      "text/plain": [
       "<Figure size 432x288 with 1 Axes>"
      ]
     },
     "metadata": {
      "needs_background": "light"
     },
     "output_type": "display_data"
    }
   ],
   "source": [
    "plt.plot(epochs, acc, 'bo', label='Training acc')\n",
    "plt.plot(epochs, val_acc, 'b', label='Validation acc')\n",
    "plt.title('Training and validation accuracy')\n",
    "plt.xlabel('Epochs')\n",
    "plt.ylabel('Accuracy')\n",
    "plt.legend()\n",
    "\n",
    "plt.show()"
   ]
  },
  {
   "cell_type": "code",
   "execution_count": 21,
   "metadata": {},
   "outputs": [
    {
     "data": {
      "image/png": "[encoded data removed]",
      "text/plain": [
       "<IPython.core.display.Image object>"
      ]
     },
     "execution_count": 21,
     "metadata": {},
     "output_type": "execute_result"
    }
   ],
   "source": [
    "tf.keras.utils.plot_model(model)"
   ]
  },
  {
   "cell_type": "code",
   "execution_count": 22,
   "metadata": {},
   "outputs": [],
   "source": [
    "model.save_weights('model1.h5')"
   ]
  },
  {
   "cell_type": "code",
   "execution_count": 25,
   "metadata": {},
   "outputs": [],
   "source": [
    "model2 = tf.keras.Sequential([\n",
    "    tf.keras.layers.Embedding(VOCAB_LEN, 16),\n",
    "    tf.keras.layers.GlobalAveragePooling1D(),\n",
    "    tf.keras.layers.Dense(32, activation=tf.nn.relu),\n",
    "    tf.keras.layers.Dense(1, activation=tf.nn.sigmoid)\n",
    "])\n",
    "\n",
    "model3 = tf.keras.Sequential([\n",
    "    tf.keras.layers.Embedding(VOCAB_LEN, 16),\n",
    "    tf.keras.layers.GlobalAveragePooling1D(),\n",
    "    tf.keras.layers.Dense(16, activation=tf.nn.relu),\n",
    "    tf.keras.layers.Dense(8, activation=tf.nn.relu),\n",
    "    tf.keras.layers.Dense(1, activation=tf.nn.sigmoid)\n",
    "])"
   ]
  },
  {
   "cell_type": "code",
   "execution_count": 24,
   "metadata": {},
   "outputs": [
    {
     "name": "stdout",
     "output_type": "stream",
     "text": [
      "Model: \"sequential_1\"\n",
      "_________________________________________________________________\n",
      "Layer (type)                 Output Shape              Param #   \n",
      "=================================================================\n",
      "embedding_1 (Embedding)      (None, None, 16)          160000    \n",
      "_________________________________________________________________\n",
      "global_average_pooling1d_1 ( (None, 16)                0         \n",
      "_________________________________________________________________\n",
      "dense_2 (Dense)              (None, 32)                544       \n",
      "_________________________________________________________________\n",
      "dense_3 (Dense)              (None, 1)                 33        \n",
      "=================================================================\n",
      "Total params: 160,577\n",
      "Trainable params: 160,577\n",
      "Non-trainable params: 0\n",
      "_________________________________________________________________\n"
     ]
    }
   ],
   "source": [
    "model2.summary()"
   ]
  },
  {
   "cell_type": "code",
   "execution_count": 26,
   "metadata": {},
   "outputs": [
    {
     "name": "stdout",
     "output_type": "stream",
     "text": [
      "Model: \"sequential_3\"\n",
      "_________________________________________________________________\n",
      "Layer (type)                 Output Shape              Param #   \n",
      "=================================================================\n",
      "embedding_3 (Embedding)      (None, None, 16)          160000    \n",
      "_________________________________________________________________\n",
      "global_average_pooling1d_3 ( (None, 16)                0         \n",
      "_________________________________________________________________\n",
      "dense_6 (Dense)              (None, 16)                272       \n",
      "_________________________________________________________________\n",
      "dense_7 (Dense)              (None, 8)                 136       \n",
      "_________________________________________________________________\n",
      "dense_8 (Dense)              (None, 1)                 9         \n",
      "=================================================================\n",
      "Total params: 160,417\n",
      "Trainable params: 160,417\n",
      "Non-trainable params: 0\n",
      "_________________________________________________________________\n"
     ]
    }
   ],
   "source": [
    "model3.summary()"
   ]
  },
  {
   "cell_type": "code",
   "execution_count": 27,
   "metadata": {},
   "outputs": [
    {
     "name": "stdout",
     "output_type": "stream",
     "text": [
      "Train on 10000 samples, validate on 15000 samples\n",
      "Epoch 1/20\n",
      "10000/10000 [==============================] - 1s 115us/sample - loss: 0.6926 - accuracy: 0.5074 - val_loss: 0.6918 - val_accuracy: 0.5299\n",
      "Epoch 2/20\n",
      "10000/10000 [==============================] - 1s 51us/sample - loss: 0.6904 - accuracy: 0.5393 - val_loss: 0.6887 - val_accuracy: 0.5621\n",
      "Epoch 3/20\n",
      "10000/10000 [==============================] - 1s 56us/sample - loss: 0.6858 - accuracy: 0.6194 - val_loss: 0.6821 - val_accuracy: 0.7033\n",
      "Epoch 4/20\n",
      "10000/10000 [==============================] - 1s 59us/sample - loss: 0.6764 - accuracy: 0.7261 - val_loss: 0.6706 - val_accuracy: 0.7341\n",
      "Epoch 5/20\n",
      "10000/10000 [==============================] - 1s 53us/sample - loss: 0.6609 - accuracy: 0.7719 - val_loss: 0.6520 - val_accuracy: 0.7509\n",
      "Epoch 6/20\n",
      "10000/10000 [==============================] - 1s 69us/sample - loss: 0.6371 - accuracy: 0.7807 - val_loss: 0.6260 - val_accuracy: 0.7753\n",
      "Epoch 7/20\n",
      "10000/10000 [==============================] - 1s 57us/sample - loss: 0.6059 - accuracy: 0.8056 - val_loss: 0.5947 - val_accuracy: 0.7879\n",
      "Epoch 8/20\n",
      "10000/10000 [==============================] - 1s 65us/sample - loss: 0.5686 - accuracy: 0.8253 - val_loss: 0.5595 - val_accuracy: 0.8089\n",
      "Epoch 9/20\n",
      "10000/10000 [==============================] - 1s 74us/sample - loss: 0.5283 - accuracy: 0.8392 - val_loss: 0.5231 - val_accuracy: 0.8191\n",
      "Epoch 10/20\n",
      "10000/10000 [==============================] - 1s 58us/sample - loss: 0.4871 - accuracy: 0.8518 - val_loss: 0.4886 - val_accuracy: 0.8285\n",
      "Epoch 11/20\n",
      "10000/10000 [==============================] - 1s 65us/sample - loss: 0.4468 - accuracy: 0.8684 - val_loss: 0.4567 - val_accuracy: 0.8415\n",
      "Epoch 12/20\n",
      "10000/10000 [==============================] - 1s 54us/sample - loss: 0.4101 - accuracy: 0.8785 - val_loss: 0.4292 - val_accuracy: 0.8488\n",
      "Epoch 13/20\n",
      "10000/10000 [==============================] - 1s 57us/sample - loss: 0.3773 - accuracy: 0.8889 - val_loss: 0.4059 - val_accuracy: 0.8517\n",
      "Epoch 14/20\n",
      "10000/10000 [==============================] - 1s 60us/sample - loss: 0.3489 - accuracy: 0.8974 - val_loss: 0.3872 - val_accuracy: 0.8549\n",
      "Epoch 15/20\n",
      "10000/10000 [==============================] - 1s 74us/sample - loss: 0.3241 - accuracy: 0.9020 - val_loss: 0.3706 - val_accuracy: 0.8599\n",
      "Epoch 16/20\n",
      "10000/10000 [==============================] - 1s 67us/sample - loss: 0.3021 - accuracy: 0.9086 - val_loss: 0.3578 - val_accuracy: 0.8629\n",
      "Epoch 17/20\n",
      "10000/10000 [==============================] - 1s 63us/sample - loss: 0.2832 - accuracy: 0.9135 - val_loss: 0.3471 - val_accuracy: 0.8661\n",
      "Epoch 18/20\n",
      "10000/10000 [==============================] - 1s 57us/sample - loss: 0.2662 - accuracy: 0.9170 - val_loss: 0.3381 - val_accuracy: 0.8674\n",
      "Epoch 19/20\n",
      "10000/10000 [==============================] - 1s 52us/sample - loss: 0.2505 - accuracy: 0.9224 - val_loss: 0.3306 - val_accuracy: 0.8693\n",
      "Epoch 20/20\n",
      "10000/10000 [==============================] - 1s 57us/sample - loss: 0.2370 - accuracy: 0.9257 - val_loss: 0.3258 - val_accuracy: 0.8699\n"
     ]
    },
    {
     "data": {
      "text/plain": [
       "<tensorflow.python.keras.callbacks.History at 0x646ad4090>"
      ]
     },
     "execution_count": 27,
     "metadata": {},
     "output_type": "execute_result"
    }
   ],
   "source": [
    "model2.compile(optimizer='adam', loss=tf.losses.BinaryCrossentropy(), metrics=['accuracy'])\n",
    "model2.fit(\n",
    "    x=train_data[:10000],\n",
    "    y=train_labels[:10000],\n",
    "    validation_data=(train_data[10000:], train_labels[10000:]),\n",
    "    batch_size=512,\n",
    "    epochs=20\n",
    ")"
   ]
  },
  {
   "cell_type": "code",
   "execution_count": 28,
   "metadata": {},
   "outputs": [
    {
     "name": "stdout",
     "output_type": "stream",
     "text": [
      "Train on 10000 samples, validate on 15000 samples\n",
      "Epoch 1/20\n",
      "10000/10000 [==============================] - 1s 99us/sample - loss: 0.6928 - accuracy: 0.5226 - val_loss: 0.6916 - val_accuracy: 0.6097\n",
      "Epoch 2/20\n",
      "10000/10000 [==============================] - 0s 48us/sample - loss: 0.6897 - accuracy: 0.6426 - val_loss: 0.6872 - val_accuracy: 0.7135\n",
      "Epoch 3/20\n",
      "10000/10000 [==============================] - 0s 47us/sample - loss: 0.6832 - accuracy: 0.6915 - val_loss: 0.6785 - val_accuracy: 0.7695\n",
      "Epoch 4/20\n",
      "10000/10000 [==============================] - 0s 48us/sample - loss: 0.6705 - accuracy: 0.7575 - val_loss: 0.6624 - val_accuracy: 0.7811\n",
      "Epoch 5/20\n",
      "10000/10000 [==============================] - 0s 47us/sample - loss: 0.6482 - accuracy: 0.8057 - val_loss: 0.6360 - val_accuracy: 0.7959\n",
      "Epoch 6/20\n",
      "10000/10000 [==============================] - 0s 47us/sample - loss: 0.6131 - accuracy: 0.8184 - val_loss: 0.5977 - val_accuracy: 0.8093\n",
      "Epoch 7/20\n",
      "10000/10000 [==============================] - 0s 48us/sample - loss: 0.5646 - accuracy: 0.8456 - val_loss: 0.5485 - val_accuracy: 0.8221\n",
      "Epoch 8/20\n",
      "10000/10000 [==============================] - 0s 48us/sample - loss: 0.5059 - accuracy: 0.8626 - val_loss: 0.4948 - val_accuracy: 0.8404\n",
      "Epoch 9/20\n",
      "10000/10000 [==============================] - 0s 50us/sample - loss: 0.4437 - accuracy: 0.8791 - val_loss: 0.4453 - val_accuracy: 0.8477\n",
      "Epoch 10/20\n",
      "10000/10000 [==============================] - 1s 52us/sample - loss: 0.3869 - accuracy: 0.8924 - val_loss: 0.4033 - val_accuracy: 0.8584\n",
      "Epoch 11/20\n",
      "10000/10000 [==============================] - 1s 51us/sample - loss: 0.3384 - accuracy: 0.9030 - val_loss: 0.3722 - val_accuracy: 0.8627\n",
      "Epoch 12/20\n",
      "10000/10000 [==============================] - 1s 50us/sample - loss: 0.2983 - accuracy: 0.9118 - val_loss: 0.3495 - val_accuracy: 0.8649\n",
      "Epoch 13/20\n",
      "10000/10000 [==============================] - 0s 49us/sample - loss: 0.2666 - accuracy: 0.9174 - val_loss: 0.3330 - val_accuracy: 0.8698\n",
      "Epoch 14/20\n",
      "10000/10000 [==============================] - 0s 48us/sample - loss: 0.2400 - accuracy: 0.9233 - val_loss: 0.3217 - val_accuracy: 0.8710\n",
      "Epoch 15/20\n",
      "10000/10000 [==============================] - 1s 67us/sample - loss: 0.2171 - accuracy: 0.9318 - val_loss: 0.3132 - val_accuracy: 0.8753\n",
      "Epoch 16/20\n",
      "10000/10000 [==============================] - 1s 60us/sample - loss: 0.1976 - accuracy: 0.9380 - val_loss: 0.3077 - val_accuracy: 0.8755\n",
      "Epoch 17/20\n",
      "10000/10000 [==============================] - 1s 67us/sample - loss: 0.1816 - accuracy: 0.9438 - val_loss: 0.3051 - val_accuracy: 0.8769\n",
      "Epoch 18/20\n",
      "10000/10000 [==============================] - 1s 62us/sample - loss: 0.1653 - accuracy: 0.9500 - val_loss: 0.3032 - val_accuracy: 0.8763\n",
      "Epoch 19/20\n",
      "10000/10000 [==============================] - 0s 50us/sample - loss: 0.1521 - accuracy: 0.9540 - val_loss: 0.3072 - val_accuracy: 0.8767\n",
      "Epoch 20/20\n",
      "10000/10000 [==============================] - 0s 42us/sample - loss: 0.1403 - accuracy: 0.9594 - val_loss: 0.3041 - val_accuracy: 0.8771\n"
     ]
    },
    {
     "data": {
      "text/plain": [
       "<tensorflow.python.keras.callbacks.History at 0x646f02f90>"
      ]
     },
     "execution_count": 28,
     "metadata": {},
     "output_type": "execute_result"
    }
   ],
   "source": [
    "model3.compile(optimizer='adam', loss=tf.losses.BinaryCrossentropy(), metrics=['accuracy'])\n",
    "model3.fit(\n",
    "    x=train_data[:10000],\n",
    "    y=train_labels[:10000],\n",
    "    validation_data=(train_data[10000:], train_labels[10000:]),\n",
    "    batch_size=512,\n",
    "    epochs=20\n",
    ")"
   ]
  },
  {
   "cell_type": "code",
   "execution_count": 45,
   "metadata": {},
   "outputs": [
    {
     "name": "stdout",
     "output_type": "stream",
     "text": [
      "25000/25000 [==============================] - 1s 40us/sample - loss: 0.3352 - accuracy: 0.8616\n"
     ]
    },
    {
     "data": {
      "text/plain": [
       "[0.33523733238220216, 0.86164]"
      ]
     },
     "execution_count": 45,
     "metadata": {},
     "output_type": "execute_result"
    }
   ],
   "source": [
    "model2.evaluate(test_data, test_labels)"
   ]
  },
  {
   "cell_type": "code",
   "execution_count": 46,
   "metadata": {},
   "outputs": [
    {
     "name": "stdout",
     "output_type": "stream",
     "text": [
      "25000/25000 [==============================] - 1s 48us/sample - loss: 0.3143 - accuracy: 0.8697\n"
     ]
    },
    {
     "data": {
      "text/plain": [
       "[0.3142692709159851, 0.86968]"
      ]
     },
     "execution_count": 46,
     "metadata": {},
     "output_type": "execute_result"
    }
   ],
   "source": [
    "model3.evaluate(test_data, test_labels)"
   ]
  },
  {
   "cell_type": "code",
   "execution_count": 29,
   "metadata": {},
   "outputs": [],
   "source": [
    "model2.save_weights('model2.h5')\n",
    "model3.save_weights('model3.h5')"
   ]
  },
  {
   "cell_type": "code",
   "execution_count": 196,
   "metadata": {},
   "outputs": [],
   "source": [
    "input1 = tf.keras.layers.Input(shape=256)\n",
    "emb = tf.keras.layers.Embedding(VOCAB_LEN, 16)(input1)\n",
    "\n",
    "x1 = tf.keras.layers.GlobalAveragePooling1D()(emb)\n",
    "x1 = tf.keras.layers.Dense(16, activation=tf.nn.relu)(x1)\n",
    "x1 = tf.keras.layers.Dense(1, activation=tf.nn.sigmoid)(x1)\n",
    "\n",
    "mmodel1 = tf.keras.models.Model(inputs=input1, outputs=x1)\n",
    "\n",
    "x2 = tf.keras.layers.GlobalAveragePooling1D()(emb)\n",
    "x2 = tf.keras.layers.Dense(32, activation=tf.nn.relu)(x2)\n",
    "x2 = tf.keras.layers.Dense(1, activation=tf.nn.sigmoid)(x2)\n",
    "\n",
    "mmodel2 = tf.keras.models.Model(inputs=input1, outputs=x2)\n",
    "\n",
    "x3 = tf.keras.layers.GlobalAveragePooling1D()(emb)\n",
    "x3 = tf.keras.layers.Dense(16, activation=tf.nn.relu)(x3)\n",
    "x3 = tf.keras.layers.Dense(8, activation=tf.nn.relu)(x3)\n",
    "x3 = tf.keras.layers.Dense(1, activation=tf.nn.sigmoid)(x3)\n",
    "\n",
    "mmodel3 = tf.keras.models.Model(inputs=input1, outputs=x3)"
   ]
  },
  {
   "cell_type": "code",
   "execution_count": 197,
   "metadata": {},
   "outputs": [],
   "source": [
    "mmodel1.load_weights('model1.h5')\n",
    "mmodel2.load_weights('model2.h5')\n",
    "mmodel3.load_weights('model3.h5')"
   ]
  },
  {
   "cell_type": "code",
   "execution_count": 198,
   "metadata": {},
   "outputs": [],
   "source": [
    "x_all = tf.keras.layers.concatenate([mmodel1.output, mmodel2.output, mmodel3.output])\n",
    "x_all = tf.keras.layers.Dense(1, activation=tf.nn.sigmoid)(x_all)\n",
    "\n",
    "mmodel_all = tf.keras.models.Model(inputs=input1, outputs=x_all)"
   ]
  },
  {
   "cell_type": "code",
   "execution_count": 199,
   "metadata": {},
   "outputs": [
    {
     "name": "stdout",
     "output_type": "stream",
     "text": [
      "Model: \"model_54\"\n",
      "__________________________________________________________________________________________________\n",
      "Layer (type)                    Output Shape         Param #     Connected to                     \n",
      "==================================================================================================\n",
      "input_11 (InputLayer)           [(None, 256)]        0                                            \n",
      "__________________________________________________________________________________________________\n",
      "embedding_23 (Embedding)        (None, 256, 16)      160000      input_11[0][0]                   \n",
      "__________________________________________________________________________________________________\n",
      "global_average_pooling1d_41 (Gl (None, 16)           0           embedding_23[0][0]               \n",
      "__________________________________________________________________________________________________\n",
      "global_average_pooling1d_39 (Gl (None, 16)           0           embedding_23[0][0]               \n",
      "__________________________________________________________________________________________________\n",
      "global_average_pooling1d_40 (Gl (None, 16)           0           embedding_23[0][0]               \n",
      "__________________________________________________________________________________________________\n",
      "dense_116 (Dense)               (None, 16)           272         global_average_pooling1d_41[0][0]\n",
      "__________________________________________________________________________________________________\n",
      "dense_112 (Dense)               (None, 16)           272         global_average_pooling1d_39[0][0]\n",
      "__________________________________________________________________________________________________\n",
      "dense_114 (Dense)               (None, 32)           544         global_average_pooling1d_40[0][0]\n",
      "__________________________________________________________________________________________________\n",
      "dense_117 (Dense)               (None, 8)            136         dense_116[0][0]                  \n",
      "__________________________________________________________________________________________________\n",
      "dense_113 (Dense)               (None, 1)            17          dense_112[0][0]                  \n",
      "__________________________________________________________________________________________________\n",
      "dense_115 (Dense)               (None, 1)            33          dense_114[0][0]                  \n",
      "__________________________________________________________________________________________________\n",
      "dense_118 (Dense)               (None, 1)            9           dense_117[0][0]                  \n",
      "__________________________________________________________________________________________________\n",
      "concatenate_35 (Concatenate)    (None, 3)            0           dense_113[0][0]                  \n",
      "                                                                 dense_115[0][0]                  \n",
      "                                                                 dense_118[0][0]                  \n",
      "__________________________________________________________________________________________________\n",
      "dense_119 (Dense)               (None, 1)            4           concatenate_35[0][0]             \n",
      "==================================================================================================\n",
      "Total params: 161,287\n",
      "Trainable params: 161,287\n",
      "Non-trainable params: 0\n",
      "__________________________________________________________________________________________________\n"
     ]
    }
   ],
   "source": [
    "mmodel_all.summary()"
   ]
  },
  {
   "cell_type": "code",
   "execution_count": 200,
   "metadata": {},
   "outputs": [],
   "source": [
    "mmodel_all.compile(optimizer='adam', loss=tf.losses.BinaryCrossentropy(), metrics=['accuracy'])"
   ]
  },
  {
   "cell_type": "code",
   "execution_count": 201,
   "metadata": {},
   "outputs": [
    {
     "data": {
      "image/png": "[encoded data removed]",
      "text/plain": [
       "<IPython.core.display.Image object>"
      ]
     },
     "execution_count": 201,
     "metadata": {},
     "output_type": "execute_result"
    }
   ],
   "source": [
    "# мне кажется, не совсем верный граф, т.к. сеть 3 имеет 2 скрытых слоя, а другие 2 только по одному\n",
    "tf.keras.utils.plot_model(mmodel_all)"
   ]
  },
  {
   "cell_type": "code",
   "execution_count": 202,
   "metadata": {},
   "outputs": [
    {
     "name": "stdout",
     "output_type": "stream",
     "text": [
      "25000/25000 [==============================] - 1s 52us/sample - loss: 0.5909 - accuracy: 0.8448\n"
     ]
    },
    {
     "data": {
      "text/plain": [
       "[0.590852318725586, 0.8448]"
      ]
     },
     "execution_count": 202,
     "metadata": {},
     "output_type": "execute_result"
    }
   ],
   "source": [
    "mmodel_all.evaluate(test_data, test_labels)"
   ]
  },
  {
   "cell_type": "code",
   "execution_count": null,
   "metadata": {},
   "outputs": [],
   "source": []
  },
  {
   "cell_type": "code",
   "execution_count": null,
   "metadata": {},
   "outputs": [],
   "source": []
  }
 ],
 "metadata": {
  "kernelspec": {
   "display_name": "Python 3",
   "language": "python",
   "name": "python3"
  },
  "language_info": {
   "codemirror_mode": {
    "name": "ipython",
    "version": 3
   },
   "file_extension": ".py",
   "mimetype": "text/x-python",
   "name": "python",
   "nbconvert_exporter": "python",
   "pygments_lexer": "ipython3",
   "version": "3.7.6"
  }
 },
 "nbformat": 4,
 "nbformat_minor": 4
}
